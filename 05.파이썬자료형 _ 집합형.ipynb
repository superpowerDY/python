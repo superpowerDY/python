{
 "cells": [
  {
   "cell_type": "markdown",
   "metadata": {},
   "source": [
    "### 집합형\n",
    "\n",
    "집합(set)은 파이썬  v2.3부터 지원되기 시작한 자료형이다.\n",
    "이 자료형은 집합과 관련된 것들을 보다 쉽게 처리하기 위해 만들어 진 자료형이다.\n",
    "집합형자료형은 set명령어를 이용해 만들 수 있다.\n",
    "\n",
    "#### 집합형의 특징\n",
    "1. 중복을 허용하지 않는다.\n",
    "2. 순서가 없다.\n",
    "\n",
    "리스트나 튜플은 순서가 있기때문에 인덱싱을 통해서 자료의 값을 가져올 수 있지만  set자료형은 순서가 없기 때문에\n",
    "인덱싱으로 자료를 가져올 수 없다.!! \n",
    "\n",
    "set자료형은 저장된 값을 가져오기 위해서는 리스트나 튜플로 변환한 후에 인덱싱을 통해서 자료를 가져올 수 있다. \n",
    "\n",
    "set자료형의 특징은 집합관련 연산이나 특히, 중복을 제거 하기 위한 필터 역할로 종종 사용한다.\n"
   ]
  },
  {
   "cell_type": "code",
   "execution_count": null,
   "metadata": {},
   "outputs": [],
   "source": []
  },
  {
   "cell_type": "code",
   "execution_count": null,
   "metadata": {},
   "outputs": [],
   "source": []
  },
  {
   "cell_type": "code",
   "execution_count": null,
   "metadata": {},
   "outputs": [],
   "source": []
  },
  {
   "cell_type": "code",
   "execution_count": null,
   "metadata": {},
   "outputs": [],
   "source": []
  },
  {
   "cell_type": "code",
   "execution_count": null,
   "metadata": {},
   "outputs": [],
   "source": []
  },
  {
   "cell_type": "code",
   "execution_count": null,
   "metadata": {},
   "outputs": [],
   "source": []
  },
  {
   "cell_type": "code",
   "execution_count": null,
   "metadata": {},
   "outputs": [],
   "source": []
  },
  {
   "cell_type": "code",
   "execution_count": null,
   "metadata": {},
   "outputs": [],
   "source": []
  },
  {
   "cell_type": "code",
   "execution_count": null,
   "metadata": {},
   "outputs": [],
   "source": []
  }
 ],
 "metadata": {
  "kernelspec": {
   "display_name": "Python 3",
   "language": "python",
   "name": "python3"
  },
  "language_info": {
   "codemirror_mode": {
    "name": "ipython",
    "version": 3
   },
   "file_extension": ".py",
   "mimetype": "text/x-python",
   "name": "python",
   "nbconvert_exporter": "python",
   "pygments_lexer": "ipython3",
   "version": "3.7.4"
  }
 },
 "nbformat": 4,
 "nbformat_minor": 2
}
