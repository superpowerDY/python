{
 "cells": [
  {
   "cell_type": "markdown",
   "metadata": {},
   "source": [
    "### 집에서 git하기\n",
    "\n",
    "* 집 컴에 git bash 다운로드\n",
    "* 임의의 폴더를 만들어서 마우스 우클릭 ->  git bash 클릭\n",
    "\n",
    "# 밑의 명령어 순서대로 입력\n",
    "\n",
    "* git config --global user.name \"깃허브 계정 이름(superpowerDY)\"\n",
    "* git config --global user.email \"깃허브 계정 이메일\"\n",
    "* git clone https://github.com/superpowerDY/python.git"
   ]
  }
 ],
 "metadata": {
  "kernelspec": {
   "display_name": "Python 3",
   "language": "python",
   "name": "python3"
  },
  "language_info": {
   "codemirror_mode": {
    "name": "ipython",
    "version": 3
   },
   "file_extension": ".py",
   "mimetype": "text/x-python",
   "name": "python",
   "nbconvert_exporter": "python",
   "pygments_lexer": "ipython3",
   "version": "3.7.4"
  }
 },
 "nbformat": 4,
 "nbformat_minor": 2
}
