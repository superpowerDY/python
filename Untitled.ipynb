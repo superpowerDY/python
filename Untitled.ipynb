{
 "cells": [
  {
   "cell_type": "markdown",
   "metadata": {},
   "source": [
    "### 딕셔너리 (Dictionary) 자료형\n",
    "\n",
    "파이썬에서의 딕셔너리 자료형이란 키와 값으로 대응관계를 나타낼 수 있는 자료형을 말한다.\n",
    "자바에서의 맵(map)과 유사한 자료형으로서 이러한 대응 관계를 나타내는 것이 \n",
    "연관 배열(Associative array) 또는 해시 (hasy)라고 한다.\n",
    "\n",
    "파이썬에서는 이러한 자료형을 딕셔너리라고 하는데 key 와 value를 한 쌍으로 갖는 자료형을 말한다.\n",
    "딕셔너리는 리스트나 튜플처럼 순처적(Sequential)으로 해당 요소의 값을 처리하지 않고  KEY를 통해서 값을 처리한다.\n",
    "딕셔너리 자료형은 중괄호 {}로 둘러싸이고 아래와 같이 정의한다.\n",
    "\n",
    ">{key1:value1 ... keyN:valueN}"
   ]
  },
  {
   "cell_type": "code",
   "execution_count": 3,
   "metadata": {},
   "outputs": [],
   "source": [
    "### 1. 딕셔너리"
   ]
  },
  {
   "cell_type": "code",
   "execution_count": 6,
   "metadata": {},
   "outputs": [
    {
     "name": "stdout",
     "output_type": "stream",
     "text": [
      "<class 'dict'>\n",
      "{'name': '홍길동', 'age': 40}\n"
     ]
    }
   ],
   "source": [
    "# 기본형태\n",
    "d1 = {}\n",
    "print(type(d1))\n",
    " # d1? \n",
    "d2 = {'name':'홍길동','age':40}\n",
    "print(d2)"
   ]
  },
  {
   "cell_type": "code",
   "execution_count": 8,
   "metadata": {},
   "outputs": [],
   "source": [
    " ### 2. 딕셔너리 추가, 삭제, 수정"
   ]
  },
  {
   "cell_type": "code",
   "execution_count": 16,
   "metadata": {},
   "outputs": [
    {
     "name": "stdout",
     "output_type": "stream",
     "text": [
      "{1: 'a', 2: 'b', 999: 'c', 'name': '성춘향', 'address': ['서울', '종로구', '더조은'], 'ID number': ('881112', '1234567')}\n"
     ]
    }
   ],
   "source": [
    "# 1. 추가하기\n",
    "\n",
    "a = {1:'a'}\n",
    "a[2] = 'b'   #키가 숫자일 경우는 지정된 숫자에 해당하는 것 키가 된다.\n",
    "a[999] = 'c'\n",
    "\n",
    "a['name'] = '홍길동'\n",
    "a['name'] = '성춘향'\n",
    "a['address'] = ['서울','종로구','더조은']   #리스트로 준거임 / \n",
    "a['ID number'] = (\"881112\",\"1234567\")\n",
    "\n",
    "print(a)\n"
   ]
  },
  {
   "cell_type": "code",
   "execution_count": 19,
   "metadata": {},
   "outputs": [
    {
     "data": {
      "text/plain": [
       "{1: 'a',\n",
       " 2: 'b',\n",
       " 'name': '성춘향',\n",
       " 'address': ['서울', '종로구', '더조은'],\n",
       " 'ID number': ('881112', '1234567')}"
      ]
     },
     "execution_count": 19,
     "metadata": {},
     "output_type": "execute_result"
    }
   ],
   "source": [
    "# 2. 삭제하기\n",
    "\n",
    " # del a[10]   -> 이러면 에러가 걸려요 ... \n",
    "\n",
    "del a[999]  \n",
    "a\n"
   ]
  },
  {
   "cell_type": "code",
   "execution_count": 20,
   "metadata": {},
   "outputs": [
    {
     "data": {
      "text/plain": [
       "{1: 'x',\n",
       " 2: 'b',\n",
       " 'name': '성춘향',\n",
       " 'address': ['서울', '종로구', '더조은'],\n",
       " 'ID number': ('881112', '1234567')}"
      ]
     },
     "execution_count": 20,
     "metadata": {},
     "output_type": "execute_result"
    }
   ],
   "source": [
    "# 3. 수정하기\n",
    "\n",
    "a[1] = 'x'\n",
    "a\n"
   ]
  },
  {
   "cell_type": "code",
   "execution_count": null,
   "metadata": {},
   "outputs": [],
   "source": [
    "### 3. 딕셔너리 사용법\n",
    "### 4. 딕셔너리 관련 함수"
   ]
  },
  {
   "cell_type": "code",
   "execution_count": null,
   "metadata": {},
   "outputs": [],
   "source": []
  },
  {
   "cell_type": "code",
   "execution_count": null,
   "metadata": {},
   "outputs": [],
   "source": []
  },
  {
   "cell_type": "code",
   "execution_count": null,
   "metadata": {},
   "outputs": [],
   "source": []
  },
  {
   "cell_type": "code",
   "execution_count": null,
   "metadata": {},
   "outputs": [],
   "source": []
  },
  {
   "cell_type": "code",
   "execution_count": null,
   "metadata": {},
   "outputs": [],
   "source": []
  },
  {
   "cell_type": "code",
   "execution_count": null,
   "metadata": {},
   "outputs": [],
   "source": []
  },
  {
   "cell_type": "code",
   "execution_count": null,
   "metadata": {},
   "outputs": [],
   "source": []
  },
  {
   "cell_type": "code",
   "execution_count": null,
   "metadata": {},
   "outputs": [],
   "source": []
  },
  {
   "cell_type": "code",
   "execution_count": null,
   "metadata": {},
   "outputs": [],
   "source": []
  },
  {
   "cell_type": "code",
   "execution_count": null,
   "metadata": {},
   "outputs": [],
   "source": []
  },
  {
   "cell_type": "code",
   "execution_count": null,
   "metadata": {},
   "outputs": [],
   "source": []
  },
  {
   "cell_type": "code",
   "execution_count": null,
   "metadata": {},
   "outputs": [],
   "source": []
  },
  {
   "cell_type": "code",
   "execution_count": null,
   "metadata": {},
   "outputs": [],
   "source": []
  },
  {
   "cell_type": "code",
   "execution_count": null,
   "metadata": {},
   "outputs": [],
   "source": []
  },
  {
   "cell_type": "code",
   "execution_count": null,
   "metadata": {},
   "outputs": [],
   "source": []
  },
  {
   "cell_type": "code",
   "execution_count": null,
   "metadata": {},
   "outputs": [],
   "source": []
  },
  {
   "cell_type": "code",
   "execution_count": null,
   "metadata": {},
   "outputs": [],
   "source": []
  }
 ],
 "metadata": {
  "kernelspec": {
   "display_name": "Python 3",
   "language": "python",
   "name": "python3"
  },
  "language_info": {
   "codemirror_mode": {
    "name": "ipython",
    "version": 3
   },
   "file_extension": ".py",
   "mimetype": "text/x-python",
   "name": "python",
   "nbconvert_exporter": "python",
   "pygments_lexer": "ipython3",
   "version": "3.7.4"
  }
 },
 "nbformat": 4,
 "nbformat_minor": 2
}
